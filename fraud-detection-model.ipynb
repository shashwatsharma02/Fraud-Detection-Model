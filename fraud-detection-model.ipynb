{
 "cells": [
  {
   "cell_type": "markdown",
   "id": "4ca8f923",
   "metadata": {
    "papermill": {
     "duration": 0.003634,
     "end_time": "2024-02-09T10:44:34.182036",
     "exception": false,
     "start_time": "2024-02-09T10:44:34.178402",
     "status": "completed"
    },
    "tags": []
   },
   "source": [
    "The fraud detection model implemented here is based on a Random Forest classifier, which is an ensemble learning method widely used for classification tasks. Let's break down the key components and characteristics of this fraud detection model:\n",
    "\n",
    "1. **Data Preprocessing**: The model starts by selecting relevant features from the dataset, including transaction type, transaction amount, balances before and after the transaction for both the origin and destination accounts, and the flag indicating potential fraud. Categorical variables like transaction type are encoded using one-hot encoding to convert them into a numerical format suitable for machine learning algorithms.\n",
    "\n",
    "2. **Model Selection**: Random Forest is chosen as the classifier for this task due to its effectiveness in handling complex relationships and capturing non-linear patterns in the data. Random Forest is an ensemble learning method that combines multiple decision trees to make predictions. Each tree in the forest is trained on a random subset of the data, and the final prediction is made by aggregating the predictions of all trees (e.g., by taking a majority vote in classification tasks).\n",
    "\n",
    "3. **Training**: The model is trained using the training data, where it learns to classify transactions as fraudulent or non-fraudulent based on the input features. During training, the Random Forest algorithm builds multiple decision trees, each considering a random subset of features and data samples. This randomness helps to reduce overfitting and improve generalization performance.\n",
    "\n",
    "4. **Prediction**: After training, the model is used to predict the fraud label (fraudulent or non-fraudulent) for new transactions in the test dataset. The trained Random Forest classifier examines the input features of each transaction and makes a prediction based on the collective decision of all trees in the forest.\n",
    "\n",
    "5. **Evaluation**: The model's performance is evaluated using metrics such as accuracy, precision, recall, F1-score, and support. Accuracy measures the overall correctness of the predictions, while precision, recall, and F1-score provide insights into the model's ability to correctly classify fraudulent transactions without missing genuine ones or falsely identifying non-fraudulent transactions as fraudulent.\n",
    "\n",
    "Overall, this fraud detection model leverages the strengths of Random Forest, such as its ability to handle complex data relationships, to effectively identify potentially fraudulent transactions and assist in fraud prevention efforts."
   ]
  },
  {
   "cell_type": "code",
   "execution_count": 1,
   "id": "687f1b16",
   "metadata": {
    "_cell_guid": "b1076dfc-b9ad-4769-8c92-a6c4dae69d19",
    "_uuid": "8f2839f25d086af736a60e9eeb907d3b93b6e0e5",
    "execution": {
     "iopub.execute_input": "2024-02-09T10:44:34.190848Z",
     "iopub.status.busy": "2024-02-09T10:44:34.190177Z",
     "iopub.status.idle": "2024-02-09T10:44:57.068132Z",
     "shell.execute_reply": "2024-02-09T10:44:57.067012Z"
    },
    "papermill": {
     "duration": 22.885309,
     "end_time": "2024-02-09T10:44:57.070692",
     "exception": false,
     "start_time": "2024-02-09T10:44:34.185383",
     "status": "completed"
    },
    "tags": []
   },
   "outputs": [
    {
     "name": "stdout",
     "output_type": "stream",
     "text": [
      "Missing Values:\n",
      "step              0\n",
      "type              0\n",
      "amount            0\n",
      "nameOrig          0\n",
      "oldbalanceOrg     0\n",
      "newbalanceOrig    0\n",
      "nameDest          0\n",
      "oldbalanceDest    0\n",
      "newbalanceDest    0\n",
      "isFraud           0\n",
      "isFlaggedFraud    0\n",
      "dtype: int64\n"
     ]
    }
   ],
   "source": [
    "import pandas as pd\n",
    "import numpy as np\n",
    "from scipy import stats\n",
    "from statsmodels.stats.outliers_influence import variance_inflation_factor\n",
    "\n",
    "# Load the dataset\n",
    "data = pd.read_csv('/kaggle/input/data-source-transac/Fraud.csv')\n",
    "\n",
    "# 1. Missing Values\n",
    "missing_values = data.isnull().sum()\n",
    "print(\"Missing Values:\")\n",
    "print(missing_values)"
   ]
  },
  {
   "cell_type": "code",
   "execution_count": 2,
   "id": "0472e0f9",
   "metadata": {
    "execution": {
     "iopub.execute_input": "2024-02-09T10:44:57.078546Z",
     "iopub.status.busy": "2024-02-09T10:44:57.078138Z",
     "iopub.status.idle": "2024-02-09T10:44:59.073321Z",
     "shell.execute_reply": "2024-02-09T10:44:59.072008Z"
    },
    "papermill": {
     "duration": 2.002532,
     "end_time": "2024-02-09T10:44:59.076364",
     "exception": false,
     "start_time": "2024-02-09T10:44:57.073832",
     "status": "completed"
    },
    "tags": []
   },
   "outputs": [
    {
     "name": "stdout",
     "output_type": "stream",
     "text": [
      "\n",
      "Outliers:\n",
      "{'step': array([6296000, 6296001, 6296002, ..., 6362617, 6362618, 6362619]), 'amount': array([    359,     375,     376, ..., 6362599, 6362616, 6362617]), 'oldbalanceOrg': array([    662,    1329,    1330, ..., 6362581, 6362582, 6362583]), 'newbalanceOrig': array([    661,     662,    1328, ..., 6362576, 6362578, 6362580]), 'oldbalanceDest': array([    375,     376,     432, ..., 6362134, 6362256, 6362553]), 'newbalanceDest': array([     84,      88,      89, ..., 6362134, 6362256, 6362507]), 'isFraud': array([      2,       3,     251, ..., 6362617, 6362618, 6362619]), 'isFlaggedFraud': array([2736446, 3247297, 3760288, 5563713, 5996407, 5996409, 6168499,\n",
      "       6205439, 6266413, 6281482, 6281484, 6296014, 6351225, 6362460,\n",
      "       6362462, 6362584])}\n"
     ]
    }
   ],
   "source": [
    "# 2. Outliers\n",
    "numerical_columns = data.select_dtypes(include=[np.number]).columns\n",
    "outliers = {}\n",
    "for col in numerical_columns:\n",
    "    z_scores = np.abs(stats.zscore(data[col]))\n",
    "    outliers[col] = np.where(z_scores > 3)[0]\n",
    "\n",
    "print(\"\\nOutliers:\")\n",
    "print(outliers)\n",
    "\n",
    "# Handle outliers by removing or transforming them\n",
    "# For example, you can choose to remove rows containing outliers:\n",
    "outlier_indices = [index for indices in outliers.values() for index in indices]\n",
    "data.drop(outlier_indices, inplace=True)"
   ]
  },
  {
   "cell_type": "code",
   "execution_count": 3,
   "id": "0a14b60d",
   "metadata": {
    "execution": {
     "iopub.execute_input": "2024-02-09T10:44:59.085188Z",
     "iopub.status.busy": "2024-02-09T10:44:59.084799Z",
     "iopub.status.idle": "2024-02-09T10:45:37.567689Z",
     "shell.execute_reply": "2024-02-09T10:45:37.566588Z"
    },
    "papermill": {
     "duration": 38.491237,
     "end_time": "2024-02-09T10:45:37.571171",
     "exception": false,
     "start_time": "2024-02-09T10:44:59.079934",
     "status": "completed"
    },
    "tags": []
   },
   "outputs": [
    {
     "name": "stdout",
     "output_type": "stream",
     "text": [
      "\n",
      "Correlation Matrix:\n",
      "                    step    amount  oldbalanceOrg  newbalanceOrig  \\\n",
      "step            1.000000 -0.012889       0.001992        0.002714   \n",
      "amount         -0.012889  1.000000       0.018753        0.025331   \n",
      "oldbalanceOrg   0.001992  0.018753       1.000000        0.997895   \n",
      "newbalanceOrig  0.002714  0.025331       0.997895        1.000000   \n",
      "oldbalanceDest  0.003059  0.273661       0.124684        0.128072   \n",
      "newbalanceDest -0.006528  0.374371       0.080616        0.080097   \n",
      "isFraud              NaN       NaN            NaN             NaN   \n",
      "isFlaggedFraud       NaN       NaN            NaN             NaN   \n",
      "\n",
      "                oldbalanceDest  newbalanceDest  isFraud  isFlaggedFraud  \n",
      "step                  0.003059       -0.006528      NaN             NaN  \n",
      "amount                0.273661        0.374371      NaN             NaN  \n",
      "oldbalanceOrg         0.124684        0.080616      NaN             NaN  \n",
      "newbalanceOrig        0.128072        0.080097      NaN             NaN  \n",
      "oldbalanceDest        1.000000        0.986095      NaN             NaN  \n",
      "newbalanceDest        0.986095        1.000000      NaN             NaN  \n",
      "isFraud                    NaN             NaN      NaN             NaN  \n",
      "isFlaggedFraud             NaN             NaN      NaN             NaN  \n"
     ]
    },
    {
     "name": "stderr",
     "output_type": "stream",
     "text": [
      "/opt/conda/lib/python3.10/site-packages/statsmodels/regression/linear_model.py:1784: RuntimeWarning: invalid value encountered in scalar divide\n",
      "  return 1 - self.ssr/self.uncentered_tss\n"
     ]
    },
    {
     "name": "stdout",
     "output_type": "stream",
     "text": [
      "\n",
      "VIF Scores:\n",
      "          Feature         VIF\n",
      "0            step    1.428556\n",
      "1          amount    3.782318\n",
      "2   oldbalanceOrg  402.449844\n",
      "3  newbalanceOrig  415.412624\n",
      "4  oldbalanceDest  130.370763\n",
      "5  newbalanceDest  142.959408\n",
      "6         isFraud         NaN\n",
      "7  isFlaggedFraud         NaN\n"
     ]
    }
   ],
   "source": [
    "# 3. Multi-collinearity\n",
    "correlation_matrix = data[numerical_columns].corr()\n",
    "print(\"\\nCorrelation Matrix:\")\n",
    "print(correlation_matrix)\n",
    "\n",
    "# Calculate VIF\n",
    "def calculate_vif(data):\n",
    "    vif_data = pd.DataFrame()\n",
    "    vif_data[\"Feature\"] = data.columns\n",
    "    vif_data[\"VIF\"] = [variance_inflation_factor(data.values, i) for i in range(len(data.columns))]\n",
    "    return vif_data\n",
    "\n",
    "vif_scores = calculate_vif(data[numerical_columns])\n",
    "print(\"\\nVIF Scores:\")\n",
    "print(vif_scores)"
   ]
  },
  {
   "cell_type": "markdown",
   "id": "40f4f897",
   "metadata": {
    "papermill": {
     "duration": 0.005542,
     "end_time": "2024-02-09T10:45:37.582750",
     "exception": false,
     "start_time": "2024-02-09T10:45:37.577208",
     "status": "completed"
    },
    "tags": []
   },
   "source": [
    "To select features for fraudulent transaction detection, we need to consider their potential relevance and importance in identifying fraudulent behavior. Here's how we can evaluate each feature:\n",
    "\n",
    "1. **step**: This feature represents time, which could be useful for identifying patterns in fraudulent activity over time. For example, fraud might be more prevalent during certain hours or days.\n",
    "\n",
    "2. **type**: The type of transaction could be highly relevant. For instance, certain types of transactions, like TRANSFER or CASH_OUT, might be more commonly associated with fraud.\n",
    "\n",
    "3. **amount**: The transaction amount is often indicative of fraudulent behavior, as fraudulent transactions may involve unusually large or small amounts compared to legitimate ones.\n",
    "\n",
    "4. **nameOrig** and **nameDest**: These features identify the sender and receiver of the transaction, respectively. Analyzing the behavior of these entities could help detect fraudulent activity, especially if certain accounts are frequently involved in fraudulent transactions.\n",
    "\n",
    "5. **oldbalanceOrg** and **newbalanceOrig**: Changes in the originating account's balance before and after the transaction could signal fraudulent behavior, such as unauthorized transfers or account takeovers.\n",
    "\n",
    "6. **oldbalanceDest** and **newbalanceDest**: Similar to the previous pair, changes in the destination account's balance could indicate potential fraudulent activity, such as money laundering or fraudulent fund transfers.\n",
    "\n",
    "7. **isFlaggedFraud**: This feature flags transactions that exceed a certain threshold amount, potentially indicating high-risk or fraudulent transactions.\n",
    "\n",
    "Considering the above criteria, the features that are likely to be selected for fraudulent transaction detection are:\n",
    "\n",
    "- **type**\n",
    "- **amount**\n",
    "- **oldbalanceOrg**\n",
    "- **newbalanceOrig**\n",
    "- **oldbalanceDest**\n",
    "- **newbalanceDest**\n",
    "- **isFlaggedFraud**\n",
    "\n",
    "These features provide a comprehensive view of transaction behavior, account balances, and transaction types, which are crucial for identifying fraudulent activity."
   ]
  },
  {
   "cell_type": "code",
   "execution_count": 4,
   "id": "8efc03e8",
   "metadata": {
    "execution": {
     "iopub.execute_input": "2024-02-09T10:45:37.596487Z",
     "iopub.status.busy": "2024-02-09T10:45:37.595987Z",
     "iopub.status.idle": "2024-02-09T10:45:40.883452Z",
     "shell.execute_reply": "2024-02-09T10:45:40.882188Z"
    },
    "papermill": {
     "duration": 3.297481,
     "end_time": "2024-02-09T10:45:40.886095",
     "exception": false,
     "start_time": "2024-02-09T10:45:37.588614",
     "status": "completed"
    },
    "tags": []
   },
   "outputs": [],
   "source": [
    "from sklearn.ensemble import RandomForestClassifier\n",
    "from sklearn.model_selection import train_test_split\n",
    "from sklearn.metrics import classification_report, accuracy_score\n",
    "\n",
    "selected_columns = ['type', 'amount', 'oldbalanceOrg', 'newbalanceOrig', 'oldbalanceDest', 'newbalanceDest', 'isFlaggedFraud']\n",
    "X = data[selected_columns]\n",
    "y = data['isFraud']\n",
    "\n",
    "X_encoded = pd.get_dummies(X, columns=['type'])\n",
    "\n",
    "X_train, X_test, y_train, y_test = train_test_split(X_encoded, y, test_size=0.2, random_state=42)"
   ]
  },
  {
   "cell_type": "code",
   "execution_count": 5,
   "id": "0d592d32",
   "metadata": {
    "execution": {
     "iopub.execute_input": "2024-02-09T10:45:40.895392Z",
     "iopub.status.busy": "2024-02-09T10:45:40.894689Z",
     "iopub.status.idle": "2024-02-09T10:47:05.763584Z",
     "shell.execute_reply": "2024-02-09T10:47:05.762292Z"
    },
    "papermill": {
     "duration": 84.877649,
     "end_time": "2024-02-09T10:47:05.767403",
     "exception": false,
     "start_time": "2024-02-09T10:45:40.889754",
     "status": "completed"
    },
    "tags": []
   },
   "outputs": [
    {
     "data": {
      "text/html": [
       "<style>#sk-container-id-1 {color: black;background-color: white;}#sk-container-id-1 pre{padding: 0;}#sk-container-id-1 div.sk-toggleable {background-color: white;}#sk-container-id-1 label.sk-toggleable__label {cursor: pointer;display: block;width: 100%;margin-bottom: 0;padding: 0.3em;box-sizing: border-box;text-align: center;}#sk-container-id-1 label.sk-toggleable__label-arrow:before {content: \"▸\";float: left;margin-right: 0.25em;color: #696969;}#sk-container-id-1 label.sk-toggleable__label-arrow:hover:before {color: black;}#sk-container-id-1 div.sk-estimator:hover label.sk-toggleable__label-arrow:before {color: black;}#sk-container-id-1 div.sk-toggleable__content {max-height: 0;max-width: 0;overflow: hidden;text-align: left;background-color: #f0f8ff;}#sk-container-id-1 div.sk-toggleable__content pre {margin: 0.2em;color: black;border-radius: 0.25em;background-color: #f0f8ff;}#sk-container-id-1 input.sk-toggleable__control:checked~div.sk-toggleable__content {max-height: 200px;max-width: 100%;overflow: auto;}#sk-container-id-1 input.sk-toggleable__control:checked~label.sk-toggleable__label-arrow:before {content: \"▾\";}#sk-container-id-1 div.sk-estimator input.sk-toggleable__control:checked~label.sk-toggleable__label {background-color: #d4ebff;}#sk-container-id-1 div.sk-label input.sk-toggleable__control:checked~label.sk-toggleable__label {background-color: #d4ebff;}#sk-container-id-1 input.sk-hidden--visually {border: 0;clip: rect(1px 1px 1px 1px);clip: rect(1px, 1px, 1px, 1px);height: 1px;margin: -1px;overflow: hidden;padding: 0;position: absolute;width: 1px;}#sk-container-id-1 div.sk-estimator {font-family: monospace;background-color: #f0f8ff;border: 1px dotted black;border-radius: 0.25em;box-sizing: border-box;margin-bottom: 0.5em;}#sk-container-id-1 div.sk-estimator:hover {background-color: #d4ebff;}#sk-container-id-1 div.sk-parallel-item::after {content: \"\";width: 100%;border-bottom: 1px solid gray;flex-grow: 1;}#sk-container-id-1 div.sk-label:hover label.sk-toggleable__label {background-color: #d4ebff;}#sk-container-id-1 div.sk-serial::before {content: \"\";position: absolute;border-left: 1px solid gray;box-sizing: border-box;top: 0;bottom: 0;left: 50%;z-index: 0;}#sk-container-id-1 div.sk-serial {display: flex;flex-direction: column;align-items: center;background-color: white;padding-right: 0.2em;padding-left: 0.2em;position: relative;}#sk-container-id-1 div.sk-item {position: relative;z-index: 1;}#sk-container-id-1 div.sk-parallel {display: flex;align-items: stretch;justify-content: center;background-color: white;position: relative;}#sk-container-id-1 div.sk-item::before, #sk-container-id-1 div.sk-parallel-item::before {content: \"\";position: absolute;border-left: 1px solid gray;box-sizing: border-box;top: 0;bottom: 0;left: 50%;z-index: -1;}#sk-container-id-1 div.sk-parallel-item {display: flex;flex-direction: column;z-index: 1;position: relative;background-color: white;}#sk-container-id-1 div.sk-parallel-item:first-child::after {align-self: flex-end;width: 50%;}#sk-container-id-1 div.sk-parallel-item:last-child::after {align-self: flex-start;width: 50%;}#sk-container-id-1 div.sk-parallel-item:only-child::after {width: 0;}#sk-container-id-1 div.sk-dashed-wrapped {border: 1px dashed gray;margin: 0 0.4em 0.5em 0.4em;box-sizing: border-box;padding-bottom: 0.4em;background-color: white;}#sk-container-id-1 div.sk-label label {font-family: monospace;font-weight: bold;display: inline-block;line-height: 1.2em;}#sk-container-id-1 div.sk-label-container {text-align: center;}#sk-container-id-1 div.sk-container {/* jupyter's `normalize.less` sets `[hidden] { display: none; }` but bootstrap.min.css set `[hidden] { display: none !important; }` so we also need the `!important` here to be able to override the default hidden behavior on the sphinx rendered scikit-learn.org. See: https://github.com/scikit-learn/scikit-learn/issues/21755 */display: inline-block !important;position: relative;}#sk-container-id-1 div.sk-text-repr-fallback {display: none;}</style><div id=\"sk-container-id-1\" class=\"sk-top-container\"><div class=\"sk-text-repr-fallback\"><pre>RandomForestClassifier(random_state=42)</pre><b>In a Jupyter environment, please rerun this cell to show the HTML representation or trust the notebook. <br />On GitHub, the HTML representation is unable to render, please try loading this page with nbviewer.org.</b></div><div class=\"sk-container\" hidden><div class=\"sk-item\"><div class=\"sk-estimator sk-toggleable\"><input class=\"sk-toggleable__control sk-hidden--visually\" id=\"sk-estimator-id-1\" type=\"checkbox\" checked><label for=\"sk-estimator-id-1\" class=\"sk-toggleable__label sk-toggleable__label-arrow\">RandomForestClassifier</label><div class=\"sk-toggleable__content\"><pre>RandomForestClassifier(random_state=42)</pre></div></div></div></div></div>"
      ],
      "text/plain": [
       "RandomForestClassifier(random_state=42)"
      ]
     },
     "execution_count": 5,
     "metadata": {},
     "output_type": "execute_result"
    }
   ],
   "source": [
    "rf_model = RandomForestClassifier(random_state=42)\n",
    "rf_model.fit(X_train, y_train)"
   ]
  },
  {
   "cell_type": "code",
   "execution_count": 6,
   "id": "6655c018",
   "metadata": {
    "execution": {
     "iopub.execute_input": "2024-02-09T10:47:05.776352Z",
     "iopub.status.busy": "2024-02-09T10:47:05.776006Z",
     "iopub.status.idle": "2024-02-09T10:47:07.204216Z",
     "shell.execute_reply": "2024-02-09T10:47:07.203213Z"
    },
    "papermill": {
     "duration": 1.435848,
     "end_time": "2024-02-09T10:47:07.206848",
     "exception": false,
     "start_time": "2024-02-09T10:47:05.771000",
     "status": "completed"
    },
    "tags": []
   },
   "outputs": [],
   "source": [
    "y_pred = rf_model.predict(X_test)"
   ]
  },
  {
   "cell_type": "code",
   "execution_count": 7,
   "id": "644a747c",
   "metadata": {
    "execution": {
     "iopub.execute_input": "2024-02-09T10:47:07.216241Z",
     "iopub.status.busy": "2024-02-09T10:47:07.215880Z",
     "iopub.status.idle": "2024-02-09T10:47:09.356516Z",
     "shell.execute_reply": "2024-02-09T10:47:09.355230Z"
    },
    "papermill": {
     "duration": 2.148274,
     "end_time": "2024-02-09T10:47:09.359018",
     "exception": false,
     "start_time": "2024-02-09T10:47:07.210744",
     "status": "completed"
    },
    "tags": []
   },
   "outputs": [
    {
     "name": "stdout",
     "output_type": "stream",
     "text": [
      "Accuracy: 1.0\n",
      "\n",
      "Classification Report:\n",
      "              precision    recall  f1-score   support\n",
      "\n",
      "           0       1.00      1.00      1.00   1204020\n",
      "\n",
      "    accuracy                           1.00   1204020\n",
      "   macro avg       1.00      1.00      1.00   1204020\n",
      "weighted avg       1.00      1.00      1.00   1204020\n",
      "\n"
     ]
    }
   ],
   "source": [
    "print(\"Accuracy:\", accuracy_score(y_test, y_pred))\n",
    "print(\"\\nClassification Report:\")\n",
    "print(classification_report(y_test, y_pred))"
   ]
  }
 ],
 "metadata": {
  "kaggle": {
   "accelerator": "none",
   "dataSources": [
    {
     "datasetId": 4413375,
     "sourceId": 7581588,
     "sourceType": "datasetVersion"
    }
   ],
   "dockerImageVersionId": 30646,
   "isGpuEnabled": false,
   "isInternetEnabled": true,
   "language": "python",
   "sourceType": "notebook"
  },
  "kernelspec": {
   "display_name": "Python 3",
   "language": "python",
   "name": "python3"
  },
  "language_info": {
   "codemirror_mode": {
    "name": "ipython",
    "version": 3
   },
   "file_extension": ".py",
   "mimetype": "text/x-python",
   "name": "python",
   "nbconvert_exporter": "python",
   "pygments_lexer": "ipython3",
   "version": "3.10.13"
  },
  "papermill": {
   "default_parameters": {},
   "duration": 158.823559,
   "end_time": "2024-02-09T10:47:10.287123",
   "environment_variables": {},
   "exception": null,
   "input_path": "__notebook__.ipynb",
   "output_path": "__notebook__.ipynb",
   "parameters": {},
   "start_time": "2024-02-09T10:44:31.463564",
   "version": "2.5.0"
  }
 },
 "nbformat": 4,
 "nbformat_minor": 5
}
